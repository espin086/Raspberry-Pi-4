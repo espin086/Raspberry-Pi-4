{
 "cells": [
  {
   "cell_type": "code",
   "execution_count": 1,
   "metadata": {},
   "outputs": [],
   "source": [
    "import time\n",
    "def read_image_from_camera():\n",
    "    command = f\"raspistill -v -o test.jpg -vf -hf\"\n",
    "    pass"
   ]
  },
  {
   "cell_type": "markdown",
   "metadata": {},
   "source": [
    "## The code below is the tensorflow light code that classifies images"
   ]
  },
  {
   "cell_type": "code",
   "execution_count": 4,
   "metadata": {},
   "outputs": [
    {
     "name": "stdout",
     "output_type": "stream",
     "text": [
      "DetectionResult(detections=[])\n",
      "DetectionResult(detections=[])\n",
      "DetectionResult(detections=[])\n",
      "DetectionResult(detections=[])\n",
      "DetectionResult(detections=[])\n",
      "DetectionResult(detections=[])\n",
      "DetectionResult(detections=[])\n",
      "DetectionResult(detections=[])\n",
      "DetectionResult(detections=[])\n",
      "DetectionResult(detections=[])\n",
      "DetectionResult(detections=[])\n",
      "DetectionResult(detections=[])\n",
      "DetectionResult(detections=[])\n",
      "DetectionResult(detections=[])\n",
      "DetectionResult(detections=[])\n",
      "DetectionResult(detections=[])\n",
      "DetectionResult(detections=[])\n",
      "DetectionResult(detections=[])\n",
      "DetectionResult(detections=[])\n",
      "DetectionResult(detections=[])\n",
      "DetectionResult(detections=[])\n",
      "DetectionResult(detections=[])\n",
      "DetectionResult(detections=[])\n",
      "DetectionResult(detections=[])\n",
      "DetectionResult(detections=[])\n",
      "DetectionResult(detections=[])\n",
      "^C\n"
     ]
    }
   ],
   "source": [
    "!python3 ../object_detection/detect.py --model ../object_detection/efficientdet_lite0.tflite "
   ]
  }
 ],
 "metadata": {
  "kernelspec": {
   "display_name": "Python 3",
   "language": "python",
   "name": "python3"
  },
  "language_info": {
   "codemirror_mode": {
    "name": "ipython",
    "version": 3
   },
   "file_extension": ".py",
   "mimetype": "text/x-python",
   "name": "python",
   "nbconvert_exporter": "python",
   "pygments_lexer": "ipython3",
   "version": "3.9.2"
  }
 },
 "nbformat": 4,
 "nbformat_minor": 2
}
